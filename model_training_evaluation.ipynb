{
  "cells": [
    {
      "cell_type": "code",
      "execution_count": null,
      "id": "12dd68bd-46c4-4c9a-a0c7-4db9ca7cf6f4",
      "metadata": {
        "colab": {
          "base_uri": "https://localhost:8080/"
        },
        "id": "12dd68bd-46c4-4c9a-a0c7-4db9ca7cf6f4",
        "outputId": "451326eb-3f6b-4296-8efc-0cac16d5e674"
      },
      "outputs": [
        {
          "output_type": "stream",
          "name": "stdout",
          "text": [
            "True\n"
          ]
        }
      ],
      "source": [
        "import numpy as np\n",
        "import pandas as pd\n",
        "import matplotlib\n",
        "import matplotlib.pyplot as plt\n",
        "import seaborn as sns\n",
        "import h5py\n",
        "%matplotlib inline\n",
        "import os\n",
        "import torch\n",
        "print(torch.cuda.is_available())\n",
        "from torch.utils.data import DataLoader, Dataset, WeightedRandomSampler, BatchSampler\n",
        "from scipy import stats\n",
        "\n",
        "from sklearn.model_selection import train_test_split\n",
        "from tqdm import tqdm\n",
        "\n",
        "import torch.nn as nn\n",
        "import torch.nn.functional as F\n",
        "import torch.optim as optim"
      ]
    },
    {
      "cell_type": "code",
      "execution_count": null,
      "id": "f960488e-c6fd-4854-be3f-a2da626433ca",
      "metadata": {
        "id": "f960488e-c6fd-4854-be3f-a2da626433ca"
      },
      "outputs": [],
      "source": [
        "# config\n",
        "filtering = 5\n",
        "MODEL_PATH =  'model/all_large_6_log21p_activity_11262024_NGG_filtering%d_6layer_128_3linear_test.pth' % filtering\n",
        "DATA_PATH = 'data/randomized_change_seq_large_data_log21p_activity_11262024_site.hdf5'\n",
        "SITE_LIST = ['CCR5_s8', 'LAG3_s9', 'TRAC_s1', 'CTLA4_s9', 'AAVS1_s14']\n",
        "\n",
        "\n",
        "BATCH_SIZE = 1024\n",
        "NUM_EPOCHS = 300\n",
        "gRNA = {'AAVS1_s14': 'GGGGCCACTAGGGACAGGATTGG',\n",
        "        'CTLA4_s9': 'GGACTGAGGGCCATGGACACGGG',\n",
        "        'TRAC_s1': 'GTCAGGGTTCTGGATATCTGTGG',\n",
        "        'LAG3_s9': 'GAAGGCTGAGATCCTGGAGGGGG',\n",
        "        'CXCR4_s8': 'GTCCCCTGAGCCCATTTCCTCGG',\n",
        "        'CCR5_s8': 'GGACAGTAAGAAGGAAAAACAGG'}"
      ]
    },
    {
      "cell_type": "markdown",
      "source": [
        "# Loading dataset"
      ],
      "metadata": {
        "id": "vyi9bdwzIqSc"
      },
      "id": "vyi9bdwzIqSc"
    },
    {
      "cell_type": "code",
      "execution_count": null,
      "id": "956d69e1-adc9-4b9a-9e80-7c578c4157b6",
      "metadata": {
        "colab": {
          "base_uri": "https://localhost:8080/"
        },
        "id": "956d69e1-adc9-4b9a-9e80-7c578c4157b6",
        "outputId": "7a8f1ef6-c2bb-4fc0-e3d8-ba1671770081"
      },
      "outputs": [
        {
          "output_type": "stream",
          "name": "stdout",
          "text": [
            "Loading dataset...\n",
            "0 (4, 23, 8) (4,)\n",
            "1 (263, 23, 8) (263,)\n",
            "2 (6548, 23, 8) (6548,)\n",
            "3 (58797, 23, 8) (58797,)\n",
            "4 (227458, 23, 8) (227458,)\n",
            "5 (399260, 23, 8) (399260,)\n",
            "6 (472397, 23, 8) (472397,)\n",
            "0 (4, 23, 8) (4,)\n",
            "1 (262, 23, 8) (262,)\n",
            "2 (7298, 23, 8) (7298,)\n",
            "3 (74356, 23, 8) (74356,)\n",
            "4 (282869, 23, 8) (282869,)\n",
            "5 (503703, 23, 8) (503703,)\n",
            "6 (619366, 23, 8) (619366,)\n",
            "0 (4, 23, 8) (4,)\n",
            "1 (264, 23, 8) (264,)\n",
            "2 (7471, 23, 8) (7471,)\n",
            "3 (71368, 23, 8) (71368,)\n",
            "4 (274688, 23, 8) (274688,)\n",
            "5 (464658, 23, 8) (464658,)\n",
            "6 (523566, 23, 8) (523566,)\n",
            "0 (4, 23, 8) (4,)\n",
            "1 (264, 23, 8) (264,)\n",
            "2 (7006, 23, 8) (7006,)\n",
            "3 (65819, 23, 8) (65819,)\n",
            "4 (222382, 23, 8) (222382,)\n",
            "5 (368976, 23, 8) (368976,)\n",
            "6 (431718, 23, 8) (431718,)\n",
            "0 (4, 23, 8) (4,)\n",
            "1 (264, 23, 8) (264,)\n",
            "2 (7507, 23, 8) (7507,)\n",
            "3 (75916, 23, 8) (75916,)\n",
            "4 (323177, 23, 8) (323177,)\n",
            "5 (587621, 23, 8) (587621,)\n",
            "6 (671959, 23, 8) (671959,)\n",
            "(6757221, 23, 8) (6757221,) (6757221,) (6757221,) (6757221,)\n"
          ]
        }
      ],
      "source": [
        "# Loading dataset\n",
        "class SeqData(Dataset):\n",
        "    def __init__(self, X, y, seq=None):\n",
        "        self.X = X\n",
        "        self.y = y\n",
        "        self.seq = seq\n",
        "        self.length = len(self.y)\n",
        "\n",
        "\n",
        "    def __getitem__(self, i):\n",
        "        X = torch.tensor(self.X[i], dtype=torch.float32)\n",
        "        y = torch.tensor(self.y[i], dtype = torch.float32)\n",
        "        return (X, y)\n",
        "\n",
        "\n",
        "    def __len__(self):\n",
        "        return self.length\n",
        "\n",
        "\n",
        "print('Loading dataset...')\n",
        "X = []\n",
        "y = []\n",
        "seq = []\n",
        "mismatches = []\n",
        "len_list = []\n",
        "source_site = []\n",
        "control_counts = []\n",
        "cas9_counts = []\n",
        "\n",
        "for site in SITE_LIST:\n",
        "    data_path = DATA_PATH.replace('site', site)\n",
        "    with h5py.File(data_path, 'r') as f:\n",
        "        for num_mismatches in range(0, 7):\n",
        "            X_s = np.array(f[str(num_mismatches)]['X']).astype(np.float32)\n",
        "            X_s[:,20,:4] = 0.25 # Set the first base of PAM to N\n",
        "            y_s = np.array(f[str(num_mismatches)]['y']).astype(np.float32)\n",
        "            seq_s = np.array(f[str(num_mismatches)]['seq']).astype(str)\n",
        "            control_count_s = np.array(f[str(num_mismatches)]['control_counts']).astype(np.float32)\n",
        "            cas9_count_s = np.array(f[str(num_mismatches)]['cas9_counts']).astype(np.float32)\n",
        "\n",
        "            ind = np.nonzero(y_s != np.inf)[0]\n",
        "            X.append(X_s[ind])\n",
        "            y.append(y_s[ind])\n",
        "            seq.append(seq_s[ind])\n",
        "            control_counts.append(control_count_s[ind])\n",
        "            cas9_counts.append(cas9_count_s[ind])\n",
        "\n",
        "            mismatches.append([num_mismatches] * len(ind))\n",
        "            source_site.append([site] * len(ind))\n",
        "            print(num_mismatches, X_s.shape, y_s.shape)\n",
        "            len_list.append(len(ind))\n",
        "            del X_s, y_s, seq_s\n",
        "\n",
        "\n",
        "X = np.concatenate(X)\n",
        "y = np.concatenate(y)\n",
        "seq = np.concatenate(seq)\n",
        "mismatches = np.concatenate(mismatches)\n",
        "source_site = np.concatenate(source_site)\n",
        "control_counts = np.concatenate(control_counts)\n",
        "cas9_counts = np.concatenate(cas9_counts)\n",
        "\n",
        "print(X.shape, y.shape, mismatches.shape, source_site.shape, control_counts.shape)\n"
      ]
    },
    {
      "cell_type": "code",
      "execution_count": null,
      "id": "7c325b12-ca2f-4b58-9017-3184bb4911a5",
      "metadata": {
        "colab": {
          "base_uri": "https://localhost:8080/"
        },
        "id": "7c325b12-ca2f-4b58-9017-3184bb4911a5",
        "outputId": "48bf3411-ed69-4aba-b026-40666cf3ca52"
      },
      "outputs": [
        {
          "output_type": "stream",
          "name": "stdout",
          "text": [
            "6757221 2497088\n",
            "[6731810 2675084 5216061 ... 5388470 1976540 3769999] 249708\n",
            "[      0       2       3 ... 6757218 6757219 6757220] 6507513\n",
            "(array([0, 1, 2, 3, 4, 5, 6]), array([    3,   120,  2775, 20608, 54852, 80378, 90972]))\n",
            "[      0       2       3 ... 6757213 6757217 6757218] 3751228\n",
            "(3376105, 23, 8) (3376105,) (375123, 23, 8) (375123,) (249708, 23, 8) (249708,)\n"
          ]
        }
      ],
      "source": [
        "# Construct the training set\n",
        "np.random.seed(42)\n",
        "ind_high_count = np.nonzero((control_counts >= 10))[0]\n",
        "print(len(control_counts), len(ind_high_count))\n",
        "test_ind = np.random.choice(ind_high_count, len(ind_high_count) // 10, replace = False)\n",
        "print(test_ind, len(test_ind))\n",
        "all_ind = np.arange(len(control_counts))\n",
        "remaining_ind = all_ind[np.isin(all_ind, test_ind, invert = True)]\n",
        "print(remaining_ind, len(remaining_ind))\n",
        "\n",
        "mis_test = mismatches[test_ind]\n",
        "print(np.unique(mis_test, return_counts = True))\n",
        "\n",
        "np.random.seed(42)\n",
        "ind_selected = np.nonzero((control_counts >= filtering))[0]\n",
        "remaining_ind = remaining_ind[np.isin(remaining_ind, ind_selected)]\n",
        "print(remaining_ind, len(remaining_ind))\n",
        "train_ind, valid_ind = train_test_split(remaining_ind, test_size = 0.1, shuffle = True)\n",
        "assert(len(set(train_ind).intersection(set(test_ind))) == 0) # make sure that there is no overlap\n",
        "X_train, X_valid, X_test = X[train_ind], X[valid_ind], X[test_ind]\n",
        "y_train, y_valid, y_test = y[train_ind], y[valid_ind], y[test_ind]\n",
        "seq_train, seq_valid, seq_test = seq[train_ind], seq[valid_ind], seq[test_ind]\n",
        "# del X, y\n",
        "\n",
        "print(X_train.shape, y_train.shape, X_valid.shape, y_valid.shape, X_test.shape, y_test.shape)\n",
        "\n",
        "dts_train = SeqData(X_train, y_train, seq_train)\n",
        "dts_valid = SeqData(X_valid, y_valid)\n",
        "dts_test = SeqData(X_test, y_test)\n",
        "\n",
        "\n",
        "loader_train = DataLoader(dataset = dts_train,\n",
        "                              batch_size = 8192,\n",
        "                              pin_memory=True,\n",
        "                              shuffle=True,\n",
        "                              num_workers = 0)\n",
        "\n",
        "loader_valid = DataLoader(dataset = dts_valid, \\\n",
        "                          batch_size = 8192,\\\n",
        "                          pin_memory=True,\\\n",
        "                          num_workers = 0,\\\n",
        "                          shuffle = False)\n",
        "\n",
        "\n",
        "loader_test = DataLoader(dataset = dts_test, \\\n",
        "                          batch_size = 8192,\\\n",
        "                          pin_memory = True,\\\n",
        "                          num_workers = 0,\\\n",
        "                          shuffle = False)\n",
        "\n"
      ]
    },
    {
      "cell_type": "code",
      "execution_count": null,
      "id": "2f403c93-cd2e-4e77-a559-55b29efa54eb",
      "metadata": {
        "id": "2f403c93-cd2e-4e77-a559-55b29efa54eb"
      },
      "outputs": [],
      "source": [
        "def get_free_gpu():\n",
        "    os.system('nvidia-smi -q -d Memory |grep -A5 GPU|grep Free > ./tmp')\n",
        "    memory_available = [int(x.split()[2]) for x in open('tmp', 'r').readlines()]\n",
        "    return int(np.argmax(memory_available))\n",
        "\n",
        "id = get_free_gpu()\n",
        "device = torch.device(\"cuda:%d\" % id)\n",
        "\n",
        "class CHANGENET(nn.Module):\n",
        "    def __init__(self):\n",
        "        super().__init__()\n",
        "        self.layers = nn.ModuleList()\n",
        "        dropout = 0.2\n",
        "        hidden_dim = 128\n",
        "\n",
        "        self.seq_length = 23\n",
        "        self.layers.append(nn.Conv1d(in_channels = 8, out_channels = hidden_dim, kernel_size = 3, padding = 1))\n",
        "        self.layers.append(nn.BatchNorm1d(hidden_dim, track_running_stats = True))\n",
        "        self.layers.append(nn.LeakyReLU())\n",
        "        self.layers.append(nn.Dropout(dropout))\n",
        "\n",
        "        self.layers.append(nn.Conv1d(in_channels = hidden_dim, out_channels = hidden_dim, kernel_size = 3, padding = 1))\n",
        "        self.layers.append(nn.BatchNorm1d(hidden_dim, track_running_stats = True))\n",
        "        self.layers.append(nn.LeakyReLU())\n",
        "        self.layers.append(nn.Dropout(dropout))\n",
        "\n",
        "        self.layers.append(nn.Conv1d(in_channels = hidden_dim, out_channels = hidden_dim, kernel_size = 3, padding = 1))\n",
        "        self.layers.append(nn.BatchNorm1d(hidden_dim, track_running_stats = True))\n",
        "        self.layers.append(nn.LeakyReLU())\n",
        "        self.layers.append(nn.Dropout(dropout))\n",
        "\n",
        "        self.layers.append(nn.Conv1d(in_channels = hidden_dim, out_channels = hidden_dim, kernel_size = 5, padding = 2))\n",
        "        self.layers.append(nn.BatchNorm1d(hidden_dim, track_running_stats = True))\n",
        "        self.layers.append(nn.LeakyReLU())\n",
        "        self.layers.append(nn.Dropout(dropout))\n",
        "\n",
        "        self.layers.append(nn.Conv1d(in_channels = hidden_dim, out_channels = hidden_dim, kernel_size = 5, padding = 2))\n",
        "        self.layers.append(nn.BatchNorm1d(hidden_dim, track_running_stats = True))\n",
        "        self.layers.append(nn.LeakyReLU())\n",
        "        self.layers.append(nn.Dropout(dropout))\n",
        "\n",
        "        self.layers.append(nn.Conv1d(in_channels = hidden_dim, out_channels = 10, kernel_size = 5, padding = 2))\n",
        "        self.layers.append(nn.BatchNorm1d(10, track_running_stats = True))\n",
        "        self.layers.append(nn.LeakyReLU())\n",
        "        self.layers.append(nn.Dropout(dropout))\n",
        "\n",
        "        self.layers.append(nn.Flatten())\n",
        "\n",
        "        self.layers.append(nn.Linear(self.seq_length * 10, 128))\n",
        "        self.layers.append(nn.LeakyReLU())\n",
        "        self.layers.append(nn.Linear(128, 32))\n",
        "        self.layers.append(nn.LeakyReLU())\n",
        "        self.layers.append(nn.Linear(32, 1))\n",
        "\n",
        "\n",
        "    def forward(self, x):\n",
        "        out = x\n",
        "        for layer in self.layers:\n",
        "            out = layer(out)\n",
        "        return out\n",
        "\n",
        "\n",
        "model = CHANGENET()\n",
        "model.to(device)\n",
        "mseloss = nn.MSELoss()\n",
        "optimizer = optim.AdamW(model.parameters(), weight_decay = 1e-5)"
      ]
    },
    {
      "cell_type": "markdown",
      "source": [
        "# Training the model"
      ],
      "metadata": {
        "id": "hhZ1nZDvIZdV"
      },
      "id": "hhZ1nZDvIZdV"
    },
    {
      "cell_type": "code",
      "execution_count": null,
      "id": "f08828b5-f464-4c0a-8b20-8429cbe5ff64",
      "metadata": {
        "id": "f08828b5-f464-4c0a-8b20-8429cbe5ff64",
        "outputId": "58ba9428-039a-4558-d9db-da8c2d3406e1",
        "colab": {
          "base_uri": "https://localhost:8080/"
        }
      },
      "outputs": [
        {
          "output_type": "stream",
          "name": "stdout",
          "text": [
            "Start training...\n"
          ]
        },
        {
          "output_type": "stream",
          "name": "stderr",
          "text": [
            "100%|██████████| 413/413 [01:48<00:00,  3.81it/s]\n"
          ]
        },
        {
          "output_type": "stream",
          "name": "stdout",
          "text": [
            "Epoch 0, train loss 0.2674089, valid loss 0.2823876, valid pearson 0.887, valid spearman 0.825\n"
          ]
        },
        {
          "output_type": "stream",
          "name": "stderr",
          "text": [
            "100%|██████████| 413/413 [01:48<00:00,  3.81it/s]\n"
          ]
        },
        {
          "output_type": "stream",
          "name": "stdout",
          "text": [
            "Epoch 1, train loss 0.1958488, valid loss 0.2063117, valid pearson 0.900, valid spearman 0.832\n"
          ]
        },
        {
          "output_type": "stream",
          "name": "stderr",
          "text": [
            "100%|██████████| 413/413 [01:47<00:00,  3.83it/s]\n"
          ]
        },
        {
          "output_type": "stream",
          "name": "stdout",
          "text": [
            "Epoch 2, train loss 0.1844929, valid loss 0.1709180, valid pearson 0.902, valid spearman 0.835\n"
          ]
        },
        {
          "output_type": "stream",
          "name": "stderr",
          "text": [
            "100%|██████████| 413/413 [01:47<00:00,  3.84it/s]\n"
          ]
        },
        {
          "output_type": "stream",
          "name": "stdout",
          "text": [
            "Epoch 3, train loss 0.1781500, valid loss 0.1649811, valid pearson 0.904, valid spearman 0.837\n"
          ]
        },
        {
          "output_type": "stream",
          "name": "stderr",
          "text": [
            "100%|██████████| 413/413 [01:47<00:00,  3.83it/s]\n"
          ]
        },
        {
          "output_type": "stream",
          "name": "stdout",
          "text": [
            "Epoch 4, train loss 0.1736734, valid loss 0.1981403, valid pearson 0.902, valid spearman 0.837\n"
          ]
        },
        {
          "output_type": "stream",
          "name": "stderr",
          "text": [
            "100%|██████████| 413/413 [01:47<00:00,  3.83it/s]\n"
          ]
        },
        {
          "output_type": "stream",
          "name": "stdout",
          "text": [
            "Epoch 5, train loss 0.1709175, valid loss 0.1703352, valid pearson 0.905, valid spearman 0.838\n"
          ]
        },
        {
          "output_type": "stream",
          "name": "stderr",
          "text": [
            "100%|██████████| 413/413 [01:47<00:00,  3.85it/s]\n"
          ]
        },
        {
          "output_type": "stream",
          "name": "stdout",
          "text": [
            "Epoch 6, train loss 0.1687759, valid loss 0.1507666, valid pearson 0.910, valid spearman 0.840\n"
          ]
        },
        {
          "output_type": "stream",
          "name": "stderr",
          "text": [
            "100%|██████████| 413/413 [01:47<00:00,  3.84it/s]\n"
          ]
        },
        {
          "output_type": "stream",
          "name": "stdout",
          "text": [
            "Epoch 7, train loss 0.1668939, valid loss 0.1689624, valid pearson 0.906, valid spearman 0.839\n"
          ]
        },
        {
          "output_type": "stream",
          "name": "stderr",
          "text": [
            "100%|██████████| 413/413 [01:47<00:00,  3.85it/s]\n"
          ]
        },
        {
          "output_type": "stream",
          "name": "stdout",
          "text": [
            "Epoch 8, train loss 0.1653027, valid loss 0.1612870, valid pearson 0.907, valid spearman 0.841\n"
          ]
        },
        {
          "output_type": "stream",
          "name": "stderr",
          "text": [
            "100%|██████████| 413/413 [01:46<00:00,  3.86it/s]\n"
          ]
        },
        {
          "output_type": "stream",
          "name": "stdout",
          "text": [
            "Epoch 9, train loss 0.1640317, valid loss 0.1507917, valid pearson 0.910, valid spearman 0.842\n"
          ]
        },
        {
          "output_type": "stream",
          "name": "stderr",
          "text": [
            "100%|██████████| 413/413 [01:47<00:00,  3.85it/s]\n"
          ]
        },
        {
          "output_type": "stream",
          "name": "stdout",
          "text": [
            "Epoch 10, train loss 0.1629460, valid loss 0.1497314, valid pearson 0.910, valid spearman 0.843\n"
          ]
        },
        {
          "output_type": "stream",
          "name": "stderr",
          "text": [
            "100%|██████████| 413/413 [01:46<00:00,  3.87it/s]\n"
          ]
        },
        {
          "output_type": "stream",
          "name": "stdout",
          "text": [
            "Epoch 11, train loss 0.1619359, valid loss 0.1685218, valid pearson 0.908, valid spearman 0.841\n"
          ]
        },
        {
          "output_type": "stream",
          "name": "stderr",
          "text": [
            "100%|██████████| 413/413 [01:46<00:00,  3.86it/s]\n"
          ]
        },
        {
          "output_type": "stream",
          "name": "stdout",
          "text": [
            "Epoch 12, train loss 0.1610274, valid loss 0.1559530, valid pearson 0.909, valid spearman 0.842\n"
          ]
        },
        {
          "output_type": "stream",
          "name": "stderr",
          "text": [
            "100%|██████████| 413/413 [01:47<00:00,  3.85it/s]\n"
          ]
        },
        {
          "output_type": "stream",
          "name": "stdout",
          "text": [
            "Epoch 13, train loss 0.1604582, valid loss 0.1502132, valid pearson 0.911, valid spearman 0.842\n"
          ]
        },
        {
          "output_type": "stream",
          "name": "stderr",
          "text": [
            "100%|██████████| 413/413 [01:46<00:00,  3.86it/s]\n"
          ]
        },
        {
          "output_type": "stream",
          "name": "stdout",
          "text": [
            "Epoch 14, train loss 0.1597247, valid loss 0.1456519, valid pearson 0.912, valid spearman 0.844\n"
          ]
        },
        {
          "output_type": "stream",
          "name": "stderr",
          "text": [
            "100%|██████████| 413/413 [01:46<00:00,  3.86it/s]\n"
          ]
        },
        {
          "output_type": "stream",
          "name": "stdout",
          "text": [
            "Epoch 15, train loss 0.1591445, valid loss 0.1515215, valid pearson 0.912, valid spearman 0.843\n"
          ]
        },
        {
          "output_type": "stream",
          "name": "stderr",
          "text": [
            "100%|██████████| 413/413 [01:47<00:00,  3.86it/s]\n"
          ]
        },
        {
          "output_type": "stream",
          "name": "stdout",
          "text": [
            "Epoch 16, train loss 0.1585768, valid loss 0.1439902, valid pearson 0.912, valid spearman 0.844\n"
          ]
        },
        {
          "output_type": "stream",
          "name": "stderr",
          "text": [
            "100%|██████████| 413/413 [01:46<00:00,  3.86it/s]\n"
          ]
        },
        {
          "output_type": "stream",
          "name": "stdout",
          "text": [
            "Epoch 17, train loss 0.1577569, valid loss 0.1505881, valid pearson 0.912, valid spearman 0.845\n"
          ]
        },
        {
          "output_type": "stream",
          "name": "stderr",
          "text": [
            "100%|██████████| 413/413 [01:46<00:00,  3.87it/s]\n"
          ]
        },
        {
          "output_type": "stream",
          "name": "stdout",
          "text": [
            "Epoch 18, train loss 0.1575152, valid loss 0.1444706, valid pearson 0.912, valid spearman 0.844\n"
          ]
        },
        {
          "output_type": "stream",
          "name": "stderr",
          "text": [
            "100%|██████████| 413/413 [01:47<00:00,  3.86it/s]\n"
          ]
        },
        {
          "output_type": "stream",
          "name": "stdout",
          "text": [
            "Epoch 19, train loss 0.1570707, valid loss 0.1443264, valid pearson 0.912, valid spearman 0.845\n"
          ]
        },
        {
          "output_type": "stream",
          "name": "stderr",
          "text": [
            "100%|██████████| 413/413 [01:47<00:00,  3.83it/s]\n"
          ]
        },
        {
          "output_type": "stream",
          "name": "stdout",
          "text": [
            "Epoch 20, train loss 0.1566647, valid loss 0.1465178, valid pearson 0.912, valid spearman 0.845\n"
          ]
        },
        {
          "output_type": "stream",
          "name": "stderr",
          "text": [
            "100%|██████████| 413/413 [01:47<00:00,  3.85it/s]\n"
          ]
        },
        {
          "output_type": "stream",
          "name": "stdout",
          "text": [
            "Epoch 21, train loss 0.1562755, valid loss 0.1448331, valid pearson 0.913, valid spearman 0.845\n"
          ]
        },
        {
          "output_type": "stream",
          "name": "stderr",
          "text": [
            "100%|██████████| 413/413 [01:46<00:00,  3.86it/s]\n"
          ]
        },
        {
          "output_type": "stream",
          "name": "stdout",
          "text": [
            "Epoch 22, train loss 0.1557227, valid loss 0.1438142, valid pearson 0.913, valid spearman 0.846\n"
          ]
        },
        {
          "output_type": "stream",
          "name": "stderr",
          "text": [
            "100%|██████████| 413/413 [01:47<00:00,  3.85it/s]\n"
          ]
        },
        {
          "output_type": "stream",
          "name": "stdout",
          "text": [
            "Epoch 23, train loss 0.1555720, valid loss 0.1482150, valid pearson 0.913, valid spearman 0.845\n"
          ]
        },
        {
          "output_type": "stream",
          "name": "stderr",
          "text": [
            "100%|██████████| 413/413 [01:48<00:00,  3.79it/s]\n"
          ]
        },
        {
          "output_type": "stream",
          "name": "stdout",
          "text": [
            "Epoch 24, train loss 0.1550560, valid loss 0.1440088, valid pearson 0.913, valid spearman 0.845\n"
          ]
        },
        {
          "output_type": "stream",
          "name": "stderr",
          "text": [
            "100%|██████████| 413/413 [01:47<00:00,  3.83it/s]\n"
          ]
        },
        {
          "output_type": "stream",
          "name": "stdout",
          "text": [
            "Epoch 25, train loss 0.1548556, valid loss 0.1460128, valid pearson 0.913, valid spearman 0.845\n"
          ]
        },
        {
          "output_type": "stream",
          "name": "stderr",
          "text": [
            "100%|██████████| 413/413 [01:47<00:00,  3.86it/s]\n"
          ]
        },
        {
          "output_type": "stream",
          "name": "stdout",
          "text": [
            "Epoch 26, train loss 0.1544697, valid loss 0.1447529, valid pearson 0.913, valid spearman 0.846\n"
          ]
        },
        {
          "output_type": "stream",
          "name": "stderr",
          "text": [
            "100%|██████████| 413/413 [01:47<00:00,  3.85it/s]\n"
          ]
        },
        {
          "output_type": "stream",
          "name": "stdout",
          "text": [
            "Epoch 27, train loss 0.1543634, valid loss 0.1442411, valid pearson 0.912, valid spearman 0.845\n"
          ]
        },
        {
          "output_type": "stream",
          "name": "stderr",
          "text": [
            "100%|██████████| 413/413 [01:47<00:00,  3.86it/s]\n"
          ]
        },
        {
          "output_type": "stream",
          "name": "stdout",
          "text": [
            "Epoch 28, train loss 0.1539626, valid loss 0.1435564, valid pearson 0.913, valid spearman 0.846\n"
          ]
        },
        {
          "output_type": "stream",
          "name": "stderr",
          "text": [
            "100%|██████████| 413/413 [01:47<00:00,  3.86it/s]\n"
          ]
        },
        {
          "output_type": "stream",
          "name": "stdout",
          "text": [
            "Epoch 29, train loss 0.1537308, valid loss 0.1418924, valid pearson 0.913, valid spearman 0.845\n"
          ]
        },
        {
          "output_type": "stream",
          "name": "stderr",
          "text": [
            "100%|██████████| 413/413 [01:47<00:00,  3.85it/s]\n"
          ]
        },
        {
          "output_type": "stream",
          "name": "stdout",
          "text": [
            "Epoch 30, train loss 0.1535223, valid loss 0.1467002, valid pearson 0.912, valid spearman 0.845\n"
          ]
        },
        {
          "output_type": "stream",
          "name": "stderr",
          "text": [
            "100%|██████████| 413/413 [01:47<00:00,  3.83it/s]\n"
          ]
        },
        {
          "output_type": "stream",
          "name": "stdout",
          "text": [
            "Epoch 31, train loss 0.1534437, valid loss 0.1439450, valid pearson 0.913, valid spearman 0.846\n"
          ]
        },
        {
          "output_type": "stream",
          "name": "stderr",
          "text": [
            "100%|██████████| 413/413 [01:47<00:00,  3.84it/s]\n"
          ]
        },
        {
          "output_type": "stream",
          "name": "stdout",
          "text": [
            "Epoch 32, train loss 0.1531524, valid loss 0.1445817, valid pearson 0.914, valid spearman 0.846\n"
          ]
        },
        {
          "output_type": "stream",
          "name": "stderr",
          "text": [
            "100%|██████████| 413/413 [01:48<00:00,  3.81it/s]\n"
          ]
        },
        {
          "output_type": "stream",
          "name": "stdout",
          "text": [
            "Epoch 33, train loss 0.1528833, valid loss 0.1413539, valid pearson 0.914, valid spearman 0.846\n"
          ]
        },
        {
          "output_type": "stream",
          "name": "stderr",
          "text": [
            "100%|██████████| 413/413 [01:47<00:00,  3.84it/s]\n"
          ]
        },
        {
          "output_type": "stream",
          "name": "stdout",
          "text": [
            "Epoch 34, train loss 0.1528781, valid loss 0.1433163, valid pearson 0.914, valid spearman 0.846\n"
          ]
        },
        {
          "output_type": "stream",
          "name": "stderr",
          "text": [
            "100%|██████████| 413/413 [01:47<00:00,  3.84it/s]\n"
          ]
        },
        {
          "output_type": "stream",
          "name": "stdout",
          "text": [
            "Epoch 35, train loss 0.1527051, valid loss 0.1424428, valid pearson 0.914, valid spearman 0.846\n"
          ]
        },
        {
          "output_type": "stream",
          "name": "stderr",
          "text": [
            "100%|██████████| 413/413 [01:47<00:00,  3.86it/s]\n"
          ]
        },
        {
          "output_type": "stream",
          "name": "stdout",
          "text": [
            "Epoch 36, train loss 0.1523936, valid loss 0.1416259, valid pearson 0.914, valid spearman 0.846\n"
          ]
        },
        {
          "output_type": "stream",
          "name": "stderr",
          "text": [
            "100%|██████████| 413/413 [01:47<00:00,  3.85it/s]\n"
          ]
        },
        {
          "output_type": "stream",
          "name": "stdout",
          "text": [
            "Epoch 37, train loss 0.1520516, valid loss 0.1412475, valid pearson 0.914, valid spearman 0.846\n"
          ]
        },
        {
          "output_type": "stream",
          "name": "stderr",
          "text": [
            "100%|██████████| 413/413 [01:48<00:00,  3.80it/s]\n"
          ]
        },
        {
          "output_type": "stream",
          "name": "stdout",
          "text": [
            "Epoch 38, train loss 0.1519839, valid loss 0.1417277, valid pearson 0.914, valid spearman 0.846\n"
          ]
        },
        {
          "output_type": "stream",
          "name": "stderr",
          "text": [
            "100%|██████████| 413/413 [01:48<00:00,  3.81it/s]\n"
          ]
        },
        {
          "output_type": "stream",
          "name": "stdout",
          "text": [
            "Epoch 39, train loss 0.1519976, valid loss 0.1412213, valid pearson 0.914, valid spearman 0.846\n"
          ]
        },
        {
          "output_type": "stream",
          "name": "stderr",
          "text": [
            "100%|██████████| 413/413 [01:48<00:00,  3.81it/s]\n"
          ]
        },
        {
          "output_type": "stream",
          "name": "stdout",
          "text": [
            "Epoch 40, train loss 0.1518420, valid loss 0.1428810, valid pearson 0.914, valid spearman 0.846\n"
          ]
        },
        {
          "output_type": "stream",
          "name": "stderr",
          "text": [
            "100%|██████████| 413/413 [01:48<00:00,  3.82it/s]\n"
          ]
        },
        {
          "output_type": "stream",
          "name": "stdout",
          "text": [
            "Epoch 41, train loss 0.1515083, valid loss 0.1435391, valid pearson 0.914, valid spearman 0.847\n"
          ]
        },
        {
          "output_type": "stream",
          "name": "stderr",
          "text": [
            "100%|██████████| 413/413 [01:47<00:00,  3.84it/s]\n"
          ]
        },
        {
          "output_type": "stream",
          "name": "stdout",
          "text": [
            "Epoch 42, train loss 0.1514366, valid loss 0.1423186, valid pearson 0.914, valid spearman 0.846\n"
          ]
        },
        {
          "output_type": "stream",
          "name": "stderr",
          "text": [
            "100%|██████████| 413/413 [01:47<00:00,  3.85it/s]\n"
          ]
        },
        {
          "output_type": "stream",
          "name": "stdout",
          "text": [
            "Epoch 43, train loss 0.1510562, valid loss 0.1416913, valid pearson 0.915, valid spearman 0.847\n"
          ]
        },
        {
          "output_type": "stream",
          "name": "stderr",
          "text": [
            "100%|██████████| 413/413 [01:47<00:00,  3.84it/s]\n"
          ]
        },
        {
          "output_type": "stream",
          "name": "stdout",
          "text": [
            "Epoch 44, train loss 0.1512106, valid loss 0.1414314, valid pearson 0.914, valid spearman 0.846\n"
          ]
        },
        {
          "output_type": "stream",
          "name": "stderr",
          "text": [
            "100%|██████████| 413/413 [01:47<00:00,  3.86it/s]\n"
          ]
        },
        {
          "output_type": "stream",
          "name": "stdout",
          "text": [
            "Epoch 45, train loss 0.1509724, valid loss 0.1415794, valid pearson 0.914, valid spearman 0.846\n"
          ]
        },
        {
          "output_type": "stream",
          "name": "stderr",
          "text": [
            "100%|██████████| 413/413 [01:47<00:00,  3.85it/s]\n"
          ]
        },
        {
          "output_type": "stream",
          "name": "stdout",
          "text": [
            "Epoch 46, train loss 0.1509286, valid loss 0.1439259, valid pearson 0.914, valid spearman 0.846\n"
          ]
        },
        {
          "output_type": "stream",
          "name": "stderr",
          "text": [
            "100%|██████████| 413/413 [01:47<00:00,  3.86it/s]\n"
          ]
        },
        {
          "output_type": "stream",
          "name": "stdout",
          "text": [
            "Epoch 47, train loss 0.1508885, valid loss 0.1407027, valid pearson 0.915, valid spearman 0.847\n"
          ]
        },
        {
          "output_type": "stream",
          "name": "stderr",
          "text": [
            "100%|██████████| 413/413 [01:47<00:00,  3.85it/s]\n"
          ]
        },
        {
          "output_type": "stream",
          "name": "stdout",
          "text": [
            "Epoch 48, train loss 0.1505281, valid loss 0.1395583, valid pearson 0.915, valid spearman 0.847\n"
          ]
        },
        {
          "output_type": "stream",
          "name": "stderr",
          "text": [
            "100%|██████████| 413/413 [01:47<00:00,  3.85it/s]\n"
          ]
        },
        {
          "output_type": "stream",
          "name": "stdout",
          "text": [
            "Epoch 49, train loss 0.1504894, valid loss 0.1417981, valid pearson 0.914, valid spearman 0.846\n"
          ]
        },
        {
          "output_type": "stream",
          "name": "stderr",
          "text": [
            "100%|██████████| 413/413 [01:47<00:00,  3.85it/s]\n"
          ]
        },
        {
          "output_type": "stream",
          "name": "stdout",
          "text": [
            "Epoch 50, train loss 0.1504692, valid loss 0.1411826, valid pearson 0.914, valid spearman 0.847\n"
          ]
        },
        {
          "output_type": "stream",
          "name": "stderr",
          "text": [
            "100%|██████████| 413/413 [01:47<00:00,  3.85it/s]\n"
          ]
        },
        {
          "output_type": "stream",
          "name": "stdout",
          "text": [
            "Epoch 51, train loss 0.1504496, valid loss 0.1403889, valid pearson 0.914, valid spearman 0.847\n"
          ]
        },
        {
          "output_type": "stream",
          "name": "stderr",
          "text": [
            "100%|██████████| 413/413 [01:47<00:00,  3.84it/s]\n"
          ]
        },
        {
          "output_type": "stream",
          "name": "stdout",
          "text": [
            "Epoch 52, train loss 0.1501647, valid loss 0.1420931, valid pearson 0.914, valid spearman 0.847\n"
          ]
        },
        {
          "output_type": "stream",
          "name": "stderr",
          "text": [
            "100%|██████████| 413/413 [01:47<00:00,  3.85it/s]\n"
          ]
        },
        {
          "output_type": "stream",
          "name": "stdout",
          "text": [
            "Epoch 53, train loss 0.1501563, valid loss 0.1401025, valid pearson 0.915, valid spearman 0.847\n"
          ]
        },
        {
          "output_type": "stream",
          "name": "stderr",
          "text": [
            "100%|██████████| 413/413 [01:47<00:00,  3.85it/s]\n"
          ]
        },
        {
          "output_type": "stream",
          "name": "stdout",
          "text": [
            "Epoch 54, train loss 0.1499890, valid loss 0.1399011, valid pearson 0.915, valid spearman 0.847\n"
          ]
        },
        {
          "output_type": "stream",
          "name": "stderr",
          "text": [
            "100%|██████████| 413/413 [01:47<00:00,  3.84it/s]\n"
          ]
        },
        {
          "output_type": "stream",
          "name": "stdout",
          "text": [
            "Epoch 55, train loss 0.1499432, valid loss 0.1410673, valid pearson 0.915, valid spearman 0.847\n"
          ]
        },
        {
          "output_type": "stream",
          "name": "stderr",
          "text": [
            "100%|██████████| 413/413 [01:47<00:00,  3.85it/s]\n"
          ]
        },
        {
          "output_type": "stream",
          "name": "stdout",
          "text": [
            "Epoch 56, train loss 0.1499849, valid loss 0.1404017, valid pearson 0.915, valid spearman 0.847\n"
          ]
        },
        {
          "output_type": "stream",
          "name": "stderr",
          "text": [
            "100%|██████████| 413/413 [01:47<00:00,  3.84it/s]\n"
          ]
        },
        {
          "output_type": "stream",
          "name": "stdout",
          "text": [
            "Epoch 57, train loss 0.1497549, valid loss 0.1406737, valid pearson 0.915, valid spearman 0.847\n"
          ]
        },
        {
          "output_type": "stream",
          "name": "stderr",
          "text": [
            "100%|██████████| 413/413 [01:46<00:00,  3.86it/s]\n"
          ]
        },
        {
          "output_type": "stream",
          "name": "stdout",
          "text": [
            "Epoch 58, train loss 0.1496660, valid loss 0.1403033, valid pearson 0.915, valid spearman 0.847\n"
          ]
        },
        {
          "output_type": "stream",
          "name": "stderr",
          "text": [
            "100%|██████████| 413/413 [01:47<00:00,  3.86it/s]\n"
          ]
        },
        {
          "output_type": "stream",
          "name": "stdout",
          "text": [
            "Epoch 59, train loss 0.1495893, valid loss 0.1413112, valid pearson 0.914, valid spearman 0.847\n"
          ]
        },
        {
          "output_type": "stream",
          "name": "stderr",
          "text": [
            "100%|██████████| 413/413 [01:46<00:00,  3.86it/s]\n"
          ]
        },
        {
          "output_type": "stream",
          "name": "stdout",
          "text": [
            "Epoch 60, train loss 0.1495536, valid loss 0.1400995, valid pearson 0.915, valid spearman 0.847\n"
          ]
        },
        {
          "output_type": "stream",
          "name": "stderr",
          "text": [
            "100%|██████████| 413/413 [01:46<00:00,  3.86it/s]\n"
          ]
        },
        {
          "output_type": "stream",
          "name": "stdout",
          "text": [
            "Epoch 61, train loss 0.1494882, valid loss 0.1404447, valid pearson 0.915, valid spearman 0.847\n"
          ]
        },
        {
          "output_type": "stream",
          "name": "stderr",
          "text": [
            "100%|██████████| 413/413 [01:47<00:00,  3.86it/s]\n"
          ]
        },
        {
          "output_type": "stream",
          "name": "stdout",
          "text": [
            "Epoch 62, train loss 0.1493679, valid loss 0.1396387, valid pearson 0.915, valid spearman 0.847\n"
          ]
        },
        {
          "output_type": "stream",
          "name": "stderr",
          "text": [
            "100%|██████████| 413/413 [01:47<00:00,  3.86it/s]\n"
          ]
        },
        {
          "output_type": "stream",
          "name": "stdout",
          "text": [
            "Epoch 63, train loss 0.1491973, valid loss 0.1392935, valid pearson 0.915, valid spearman 0.847\n"
          ]
        },
        {
          "output_type": "stream",
          "name": "stderr",
          "text": [
            "100%|██████████| 413/413 [01:46<00:00,  3.86it/s]\n"
          ]
        },
        {
          "output_type": "stream",
          "name": "stdout",
          "text": [
            "Epoch 64, train loss 0.1492825, valid loss 0.1416367, valid pearson 0.914, valid spearman 0.846\n"
          ]
        },
        {
          "output_type": "stream",
          "name": "stderr",
          "text": [
            "100%|██████████| 413/413 [01:47<00:00,  3.82it/s]\n"
          ]
        },
        {
          "output_type": "stream",
          "name": "stdout",
          "text": [
            "Epoch 65, train loss 0.1492142, valid loss 0.1408185, valid pearson 0.915, valid spearman 0.847\n"
          ]
        },
        {
          "output_type": "stream",
          "name": "stderr",
          "text": [
            "100%|██████████| 413/413 [01:47<00:00,  3.83it/s]\n"
          ]
        },
        {
          "output_type": "stream",
          "name": "stdout",
          "text": [
            "Epoch 66, train loss 0.1490913, valid loss 0.1396186, valid pearson 0.915, valid spearman 0.848\n"
          ]
        },
        {
          "output_type": "stream",
          "name": "stderr",
          "text": [
            "100%|██████████| 413/413 [01:47<00:00,  3.84it/s]\n"
          ]
        },
        {
          "output_type": "stream",
          "name": "stdout",
          "text": [
            "Epoch 67, train loss 0.1488127, valid loss 0.1396407, valid pearson 0.915, valid spearman 0.847\n"
          ]
        },
        {
          "output_type": "stream",
          "name": "stderr",
          "text": [
            "100%|██████████| 413/413 [01:47<00:00,  3.84it/s]\n"
          ]
        },
        {
          "output_type": "stream",
          "name": "stdout",
          "text": [
            "Epoch 68, train loss 0.1489244, valid loss 0.1418204, valid pearson 0.914, valid spearman 0.847\n"
          ]
        },
        {
          "output_type": "stream",
          "name": "stderr",
          "text": [
            "100%|██████████| 413/413 [01:47<00:00,  3.85it/s]\n"
          ]
        },
        {
          "output_type": "stream",
          "name": "stdout",
          "text": [
            "Epoch 69, train loss 0.1487708, valid loss 0.1394833, valid pearson 0.915, valid spearman 0.848\n"
          ]
        },
        {
          "output_type": "stream",
          "name": "stderr",
          "text": [
            "100%|██████████| 413/413 [01:47<00:00,  3.83it/s]\n"
          ]
        },
        {
          "output_type": "stream",
          "name": "stdout",
          "text": [
            "Epoch 70, train loss 0.1488039, valid loss 0.1408518, valid pearson 0.915, valid spearman 0.847\n"
          ]
        },
        {
          "output_type": "stream",
          "name": "stderr",
          "text": [
            "100%|██████████| 413/413 [01:47<00:00,  3.84it/s]\n"
          ]
        },
        {
          "output_type": "stream",
          "name": "stdout",
          "text": [
            "Epoch 71, train loss 0.1487965, valid loss 0.1401423, valid pearson 0.915, valid spearman 0.847\n"
          ]
        },
        {
          "output_type": "stream",
          "name": "stderr",
          "text": [
            "100%|██████████| 413/413 [01:48<00:00,  3.82it/s]\n"
          ]
        },
        {
          "output_type": "stream",
          "name": "stdout",
          "text": [
            "Epoch 72, train loss 0.1485079, valid loss 0.1412247, valid pearson 0.915, valid spearman 0.847\n"
          ]
        },
        {
          "output_type": "stream",
          "name": "stderr",
          "text": [
            "100%|██████████| 413/413 [01:47<00:00,  3.83it/s]\n"
          ]
        },
        {
          "output_type": "stream",
          "name": "stdout",
          "text": [
            "Epoch 73, train loss 0.1486133, valid loss 0.1413276, valid pearson 0.915, valid spearman 0.847\n"
          ]
        },
        {
          "output_type": "stream",
          "name": "stderr",
          "text": [
            "100%|██████████| 413/413 [01:47<00:00,  3.83it/s]\n"
          ]
        },
        {
          "output_type": "stream",
          "name": "stdout",
          "text": [
            "Epoch 74, train loss 0.1484699, valid loss 0.1395923, valid pearson 0.916, valid spearman 0.848\n"
          ]
        },
        {
          "output_type": "stream",
          "name": "stderr",
          "text": [
            "100%|██████████| 413/413 [01:47<00:00,  3.83it/s]\n"
          ]
        },
        {
          "output_type": "stream",
          "name": "stdout",
          "text": [
            "Epoch 75, train loss 0.1484375, valid loss 0.1392215, valid pearson 0.915, valid spearman 0.847\n"
          ]
        },
        {
          "output_type": "stream",
          "name": "stderr",
          "text": [
            "100%|██████████| 413/413 [01:47<00:00,  3.85it/s]\n"
          ]
        },
        {
          "output_type": "stream",
          "name": "stdout",
          "text": [
            "Epoch 76, train loss 0.1483610, valid loss 0.1396611, valid pearson 0.915, valid spearman 0.847\n"
          ]
        },
        {
          "output_type": "stream",
          "name": "stderr",
          "text": [
            "100%|██████████| 413/413 [01:47<00:00,  3.85it/s]\n"
          ]
        },
        {
          "output_type": "stream",
          "name": "stdout",
          "text": [
            "Epoch 77, train loss 0.1482075, valid loss 0.1392681, valid pearson 0.915, valid spearman 0.847\n"
          ]
        },
        {
          "output_type": "stream",
          "name": "stderr",
          "text": [
            "100%|██████████| 413/413 [01:47<00:00,  3.84it/s]\n"
          ]
        },
        {
          "output_type": "stream",
          "name": "stdout",
          "text": [
            "Epoch 78, train loss 0.1481377, valid loss 0.1396112, valid pearson 0.915, valid spearman 0.847\n"
          ]
        },
        {
          "output_type": "stream",
          "name": "stderr",
          "text": [
            "100%|██████████| 413/413 [01:47<00:00,  3.83it/s]\n"
          ]
        },
        {
          "output_type": "stream",
          "name": "stdout",
          "text": [
            "Epoch 79, train loss 0.1482958, valid loss 0.1389340, valid pearson 0.915, valid spearman 0.847\n"
          ]
        },
        {
          "output_type": "stream",
          "name": "stderr",
          "text": [
            "100%|██████████| 413/413 [01:47<00:00,  3.84it/s]\n"
          ]
        },
        {
          "output_type": "stream",
          "name": "stdout",
          "text": [
            "Epoch 80, train loss 0.1482569, valid loss 0.1406843, valid pearson 0.915, valid spearman 0.847\n"
          ]
        },
        {
          "output_type": "stream",
          "name": "stderr",
          "text": [
            "100%|██████████| 413/413 [01:47<00:00,  3.85it/s]\n"
          ]
        },
        {
          "output_type": "stream",
          "name": "stdout",
          "text": [
            "Epoch 81, train loss 0.1480961, valid loss 0.1387363, valid pearson 0.915, valid spearman 0.847\n"
          ]
        },
        {
          "output_type": "stream",
          "name": "stderr",
          "text": [
            "100%|██████████| 413/413 [01:47<00:00,  3.83it/s]\n"
          ]
        },
        {
          "output_type": "stream",
          "name": "stdout",
          "text": [
            "Epoch 82, train loss 0.1480511, valid loss 0.1400853, valid pearson 0.915, valid spearman 0.848\n"
          ]
        },
        {
          "output_type": "stream",
          "name": "stderr",
          "text": [
            "100%|██████████| 413/413 [01:47<00:00,  3.84it/s]\n"
          ]
        },
        {
          "output_type": "stream",
          "name": "stdout",
          "text": [
            "Epoch 83, train loss 0.1478800, valid loss 0.1405469, valid pearson 0.915, valid spearman 0.847\n"
          ]
        },
        {
          "output_type": "stream",
          "name": "stderr",
          "text": [
            "100%|██████████| 413/413 [01:47<00:00,  3.85it/s]\n"
          ]
        },
        {
          "output_type": "stream",
          "name": "stdout",
          "text": [
            "Epoch 84, train loss 0.1478693, valid loss 0.1391058, valid pearson 0.915, valid spearman 0.847\n"
          ]
        },
        {
          "output_type": "stream",
          "name": "stderr",
          "text": [
            "100%|██████████| 413/413 [01:47<00:00,  3.85it/s]\n"
          ]
        },
        {
          "output_type": "stream",
          "name": "stdout",
          "text": [
            "Epoch 85, train loss 0.1480102, valid loss 0.1399146, valid pearson 0.915, valid spearman 0.848\n"
          ]
        },
        {
          "output_type": "stream",
          "name": "stderr",
          "text": [
            "100%|██████████| 413/413 [01:47<00:00,  3.84it/s]\n"
          ]
        },
        {
          "output_type": "stream",
          "name": "stdout",
          "text": [
            "Epoch 86, train loss 0.1478026, valid loss 0.1395343, valid pearson 0.915, valid spearman 0.848\n"
          ]
        },
        {
          "output_type": "stream",
          "name": "stderr",
          "text": [
            "100%|██████████| 413/413 [01:47<00:00,  3.84it/s]\n"
          ]
        },
        {
          "output_type": "stream",
          "name": "stdout",
          "text": [
            "Epoch 87, train loss 0.1476147, valid loss 0.1398054, valid pearson 0.915, valid spearman 0.848\n"
          ]
        },
        {
          "output_type": "stream",
          "name": "stderr",
          "text": [
            "100%|██████████| 413/413 [01:47<00:00,  3.84it/s]\n"
          ]
        },
        {
          "output_type": "stream",
          "name": "stdout",
          "text": [
            "Epoch 88, train loss 0.1478288, valid loss 0.1389927, valid pearson 0.915, valid spearman 0.848\n"
          ]
        },
        {
          "output_type": "stream",
          "name": "stderr",
          "text": [
            "100%|██████████| 413/413 [01:47<00:00,  3.85it/s]\n"
          ]
        },
        {
          "output_type": "stream",
          "name": "stdout",
          "text": [
            "Epoch 89, train loss 0.1477438, valid loss 0.1389571, valid pearson 0.915, valid spearman 0.848\n"
          ]
        },
        {
          "output_type": "stream",
          "name": "stderr",
          "text": [
            "100%|██████████| 413/413 [01:47<00:00,  3.85it/s]\n"
          ]
        },
        {
          "output_type": "stream",
          "name": "stdout",
          "text": [
            "Epoch 90, train loss 0.1476548, valid loss 0.1396112, valid pearson 0.915, valid spearman 0.848\n"
          ]
        },
        {
          "output_type": "stream",
          "name": "stderr",
          "text": [
            "100%|██████████| 413/413 [01:47<00:00,  3.85it/s]\n"
          ]
        },
        {
          "output_type": "stream",
          "name": "stdout",
          "text": [
            "Epoch 91, train loss 0.1476083, valid loss 0.1389203, valid pearson 0.915, valid spearman 0.848\n"
          ]
        },
        {
          "output_type": "stream",
          "name": "stderr",
          "text": [
            "100%|██████████| 413/413 [01:47<00:00,  3.84it/s]\n"
          ]
        },
        {
          "output_type": "stream",
          "name": "stdout",
          "text": [
            "Epoch 92, train loss 0.1476309, valid loss 0.1394606, valid pearson 0.915, valid spearman 0.848\n"
          ]
        },
        {
          "output_type": "stream",
          "name": "stderr",
          "text": [
            "100%|██████████| 413/413 [01:47<00:00,  3.85it/s]\n"
          ]
        },
        {
          "output_type": "stream",
          "name": "stdout",
          "text": [
            "Epoch 93, train loss 0.1474159, valid loss 0.1388699, valid pearson 0.916, valid spearman 0.848\n"
          ]
        },
        {
          "output_type": "stream",
          "name": "stderr",
          "text": [
            "100%|██████████| 413/413 [01:47<00:00,  3.85it/s]\n"
          ]
        },
        {
          "output_type": "stream",
          "name": "stdout",
          "text": [
            "Epoch 94, train loss 0.1474861, valid loss 0.1387662, valid pearson 0.916, valid spearman 0.848\n"
          ]
        },
        {
          "output_type": "stream",
          "name": "stderr",
          "text": [
            "100%|██████████| 413/413 [01:47<00:00,  3.85it/s]\n"
          ]
        },
        {
          "output_type": "stream",
          "name": "stdout",
          "text": [
            "Epoch 95, train loss 0.1474666, valid loss 0.1395601, valid pearson 0.915, valid spearman 0.848\n"
          ]
        },
        {
          "output_type": "stream",
          "name": "stderr",
          "text": [
            "100%|██████████| 413/413 [01:47<00:00,  3.84it/s]\n"
          ]
        },
        {
          "output_type": "stream",
          "name": "stdout",
          "text": [
            "Epoch 96, train loss 0.1473458, valid loss 0.1384330, valid pearson 0.916, valid spearman 0.848\n"
          ]
        },
        {
          "output_type": "stream",
          "name": "stderr",
          "text": [
            "100%|██████████| 413/413 [01:47<00:00,  3.85it/s]\n"
          ]
        },
        {
          "output_type": "stream",
          "name": "stdout",
          "text": [
            "Epoch 97, train loss 0.1472551, valid loss 0.1383601, valid pearson 0.916, valid spearman 0.848\n"
          ]
        },
        {
          "output_type": "stream",
          "name": "stderr",
          "text": [
            "100%|██████████| 413/413 [01:47<00:00,  3.85it/s]\n"
          ]
        },
        {
          "output_type": "stream",
          "name": "stdout",
          "text": [
            "Epoch 98, train loss 0.1473285, valid loss 0.1409185, valid pearson 0.915, valid spearman 0.847\n"
          ]
        },
        {
          "output_type": "stream",
          "name": "stderr",
          "text": [
            "100%|██████████| 413/413 [01:47<00:00,  3.85it/s]\n"
          ]
        },
        {
          "output_type": "stream",
          "name": "stdout",
          "text": [
            "Epoch 99, train loss 0.1470982, valid loss 0.1392899, valid pearson 0.915, valid spearman 0.848\n"
          ]
        }
      ],
      "source": [
        "from scipy import stats\n",
        "def train(model, loader_train, loader_valid):\n",
        "    best_epoch = -1\n",
        "    best_pearsonr = 0\n",
        "\n",
        "    for r in range(num_epochs):\n",
        "        model.train()\n",
        "        train_loss_list = []\n",
        "        mse_loss_list = []\n",
        "        ranking_loss_list = []\n",
        "\n",
        "        for i, (X,y) in enumerate(tqdm(loader_train)):\n",
        "            (X, y) = (X.to(device), y.to(device))\n",
        "            X = torch.transpose(X, 1, 2)\n",
        "            y = y.view(y.shape[0], 1)\n",
        "            output = model(X).reshape(-1,1)\n",
        "            loss = mseloss(output, y)\n",
        "            train_loss_list.append(loss.item())\n",
        "\n",
        "            optimizer.zero_grad()\n",
        "            loss.backward()\n",
        "            optimizer.step()\n",
        "\n",
        "        model.eval()\n",
        "        valid_loss_list = []\n",
        "        y_true_list = []\n",
        "        y_pred_list = []\n",
        "        for i, (X,y) in enumerate(loader_valid):\n",
        "            (X, y) = (X.to(device), y.to(device))\n",
        "            X = torch.transpose(X, 1, 2)\n",
        "\n",
        "            y = y.view(y.shape[0], 1)\n",
        "            output = model(X)\n",
        "            loss = mseloss(output, y)\n",
        "            valid_loss_list.append(loss.item())\n",
        "            y_true_list.append(y.cpu().detach().numpy().reshape(-1,))\n",
        "            y_pred_list.append(output.cpu().detach().numpy().reshape(-1,))\n",
        "        y_true_list = np.concatenate(y_true_list)\n",
        "        y_pred_list = np.concatenate(y_pred_list)\n",
        "        corr = np.corrcoef(y_true_list, y_pred_list)[0,1]\n",
        "        spearmanr = stats.spearmanr(y_true_list, y_pred_list).statistic\n",
        "        print('Epoch %d, train loss %.7f, valid loss %.7f, valid pearson %.3f, valid spearman %.3f' % (r, np.mean(train_loss_list), np.mean(valid_loss_list), corr, spearmanr))\n",
        "\n",
        "        if corr > best_pearsonr:\n",
        "            best_epoch = r\n",
        "            best_pearsonr = corr\n",
        "            torch.save({\n",
        "                'epoch': r,\n",
        "                'model_state_dict': model.state_dict(),\n",
        "                'optimizer_state_dict': optimizer.state_dict(),\n",
        "                'loss': loss\n",
        "                }, MODEL_PATH)\n",
        "# large_5_sample_by_bin_up_around: upsample bins between 0.1 and 0.4\n",
        "num_epochs = 100\n",
        "print('Start training...')\n",
        "train(model, loader_train, loader_valid)"
      ]
    },
    {
      "cell_type": "markdown",
      "source": [
        "# Evaluating on the test set"
      ],
      "metadata": {
        "id": "q-c4BEzJITyC"
      },
      "id": "q-c4BEzJITyC"
    },
    {
      "cell_type": "code",
      "execution_count": null,
      "id": "fde46aa0-c7df-4ed5-9e81-ea5e8d50ae1e",
      "metadata": {
        "colab": {
          "base_uri": "https://localhost:8080/"
        },
        "id": "fde46aa0-c7df-4ed5-9e81-ea5e8d50ae1e",
        "outputId": "2df38a61-e6da-4653-e5b7-469ecf95a4d8"
      },
      "outputs": [
        {
          "output_type": "stream",
          "name": "stderr",
          "text": [
            "<ipython-input-7-7998d1740930>:1: FutureWarning: You are using `torch.load` with `weights_only=False` (the current default value), which uses the default pickle module implicitly. It is possible to construct malicious pickle data which will execute arbitrary code during unpickling (See https://github.com/pytorch/pytorch/blob/main/SECURITY.md#untrusted-models for more details). In a future release, the default value for `weights_only` will be flipped to `True`. This limits the functions that could be executed during unpickling. Arbitrary objects will no longer be allowed to be loaded via this mode unless they are explicitly allowlisted by the user via `torch.serialization.add_safe_globals`. We recommend you start setting `weights_only=True` for any use case where you don't have full control of the loaded file. Please open an issue on GitHub for any issues related to this experimental feature.\n",
            "  checkpoint = torch.load(MODEL_PATH)\n"
          ]
        },
        {
          "output_type": "execute_result",
          "data": {
            "text/plain": [
              "<All keys matched successfully>"
            ]
          },
          "metadata": {},
          "execution_count": 7
        }
      ],
      "source": [
        "checkpoint = torch.load(MODEL_PATH)\n",
        "model.load_state_dict(checkpoint['model_state_dict'])"
      ]
    },
    {
      "cell_type": "code",
      "execution_count": null,
      "id": "ea06695b-8efa-4eba-8e44-48a786f7e9a6",
      "metadata": {
        "colab": {
          "base_uri": "https://localhost:8080/"
        },
        "id": "ea06695b-8efa-4eba-8e44-48a786f7e9a6",
        "outputId": "ab41ccd8-b068-4544-bde3-89dcb89a1f38"
      },
      "outputs": [
        {
          "output_type": "stream",
          "name": "stdout",
          "text": [
            "Test loss 0.09542680988388677\n",
            "[[1.         0.94376154]\n",
            " [0.94376154 1.        ]]\n",
            "249708 6757221\n"
          ]
        }
      ],
      "source": [
        "model.eval()\n",
        "\n",
        "loss_list = []\n",
        "true_list = []\n",
        "pred_list = []\n",
        "for i, (X,y) in enumerate(loader_test):\n",
        "    (X, y) = (X.to(device), y.to(device))\n",
        "    X = torch.transpose(X, 1, 2)\n",
        "    y = y.view(y.shape[0], 1)\n",
        "    output = model(X)\n",
        "    loss = mseloss(output, y)\n",
        "    loss_list.append(loss.item())\n",
        "    true_list.append(y.cpu().detach().numpy().reshape(-1,))\n",
        "    pred_list.append(output.cpu().detach().numpy().reshape(-1,))\n",
        "\n",
        "true_list = np.concatenate(true_list)\n",
        "pred_list = np.concatenate(pred_list)\n",
        "\n",
        "print('Test loss', np.mean(loss_list))\n",
        "print(np.corrcoef(true_list, pred_list))\n",
        "source_test = source_site[test_ind]\n",
        "\n",
        "print(len(test_ind), len(mismatches))\n",
        "d = {'seq': seq_test,\n",
        "     'gRNA': source_test,\n",
        "     'mismatches': mismatches[test_ind],\n",
        "     'gRNA_seq': [gRNA[s] for s in source_test],\n",
        "     'log2FC_true': true_list,\n",
        "     'log2FC_pred': pred_list\n",
        "}\n",
        "df = pd.DataFrame(data=d)\n",
        "df.to_csv('results/prediction_results_MM6_log21p_activity_NGG_11262024_filtering%d_%s_test.csv' % (filtering, 'all'))\n",
        "\n",
        "\n",
        "\n"
      ]
    },
    {
      "cell_type": "code",
      "execution_count": null,
      "id": "3f260a9d-e83b-416e-be77-17674fd6e67a",
      "metadata": {
        "id": "3f260a9d-e83b-416e-be77-17674fd6e67a",
        "outputId": "6eca645e-0c2a-4268-867f-635c44359e14",
        "colab": {
          "base_uri": "https://localhost:8080/"
        }
      },
      "outputs": [
        {
          "output_type": "stream",
          "name": "stdout",
          "text": [
            "0\n",
            "10000\n",
            "20000\n",
            "30000\n",
            "40000\n",
            "50000\n",
            "60000\n",
            "70000\n",
            "80000\n",
            "90000\n",
            "100000\n",
            "110000\n",
            "120000\n",
            "130000\n",
            "140000\n",
            "150000\n",
            "160000\n",
            "170000\n",
            "180000\n",
            "190000\n",
            "200000\n",
            "210000\n",
            "220000\n",
            "230000\n",
            "240000\n"
          ]
        }
      ],
      "source": [
        "# Find all pairs of off-target sequences within edit distance 1 and compare their predicted vs actual change\n",
        "def permute(seq, ref):\n",
        "    if len(seq) == 23:\n",
        "        neighbors = np.array([seq[:i] + base + seq[i+1:] for i in range(23) if (i != 20 and seq[i] == ref[i]) for base in ['A', 'C', 'G', 'T']])\n",
        "        # neighbors = np.array([seq[:i] + base + seq[i+1:] for i in range(23) if (i != 20) for base in ['A', 'C', 'G', 'T']])\n",
        "        neighbors = neighbors[np.nonzero(neighbors != seq)[0]]\n",
        "\n",
        "    elif len(seq) == 47:\n",
        "        seq1, seq2 = seq.split('_')[0],  seq.split('_')[1]\n",
        "        neighbors = []\n",
        "        neighbors.append(np.array([seq1[:i] + base + seq1[i+1:] for i in range(21) for base in ['A', 'C', 'G', 'T']]))\n",
        "        neighbors.append(np.array([seq2[:i] + base + seq2[i+1:] for i in range(21) for base in ['A', 'C', 'G', 'T']]))\n",
        "        neighbors = np.concatenate(neighbors)\n",
        "        neighbors = neighbors[np.nonzero((neighbors != seq1) & (neighbors != seq2))[0]]\n",
        "    return neighbors\n",
        "\n",
        "mm_scores={'rU:dT,12': 0.8, 'rU:dT,13': 0.692307692, 'rU:dC,5': 0.64, 'rG:dA,14': 0.26666666699999997, 'rG:dG,19': 0.448275862, 'rG:dG,18': 0.47619047600000003, 'rG:dG,15': 0.272727273, 'rG:dG,14': 0.428571429, 'rG:dG,17': 0.235294118, 'rG:dG,16': 0.0, 'rC:dC,20': 0.058823529000000006, 'rG:dT,20': 0.9375, 'rG:dG,13': 0.42105263200000004, 'rG:dG,12': 0.529411765, 'rU:dC,6': 0.571428571, 'rU:dG,14': 0.28571428600000004, 'rU:dT,18': 0.666666667, 'rA:dG,13': 0.21052631600000002, 'rA:dG,12': 0.263157895, 'rA:dG,11': 0.4, 'rA:dG,10': 0.333333333, 'rA:dA,19': 0.538461538, 'rA:dA,18': 0.5, 'rA:dG,15': 0.272727273, 'rA:dG,14': 0.214285714, 'rA:dA,15': 0.2, 'rA:dA,14': 0.533333333, 'rA:dA,17': 0.133333333, 'rA:dA,16': 0.0, 'rA:dA,11': 0.307692308, 'rA:dA,10': 0.882352941, 'rA:dA,13': 0.3, 'rA:dA,12': 0.333333333, 'rG:dA,13': 0.3, 'rG:dA,12': 0.384615385, 'rG:dA,11': 0.384615385, 'rG:dA,10': 0.8125, 'rG:dA,17': 0.25, 'rG:dA,16': 0.0, 'rG:dA,15': 0.14285714300000002, 'rG:dA,6': 0.666666667, 'rG:dG,20': 0.428571429, 'rG:dA,19': 0.666666667, 'rG:dA,18': 0.666666667, 'rU:dC,4': 0.625, 'rG:dT,12': 0.933333333, 'rG:dT,13': 0.923076923, 'rU:dG,11': 0.666666667, 'rC:dA,3': 0.6875, 'rC:dA,2': 0.9090909090000001, 'rC:dA,1': 1.0, 'rC:dA,7': 0.8125, 'rC:dA,6': 0.9285714290000001, 'rC:dA,5': 0.636363636, 'rC:dA,4': 0.8, 'rC:dA,9': 0.875, 'rC:dA,8': 0.875, 'rU:dT,6': 0.8666666670000001, 'rA:dG,20': 0.22727272699999998, 'rG:dT,18': 0.692307692, 'rU:dG,10': 0.533333333, 'rG:dT,19': 0.7142857140000001, 'rG:dA,20': 0.7, 'rC:dT,20': 0.5, 'rU:dC,2': 0.84, 'rG:dG,10': 0.4, 'rC:dA,17': 0.46666666700000003, 'rC:dA,16': 0.307692308, 'rC:dA,15': 0.066666667, 'rC:dA,14': 0.7333333329999999, 'rC:dA,13': 0.7, 'rC:dA,12': 0.538461538, 'rC:dA,11': 0.307692308, 'rC:dA,10': 0.9411764709999999, 'rG:dG,11': 0.428571429, 'rU:dC,20': 0.176470588, 'rG:dG,3': 0.384615385, 'rC:dA,19': 0.46153846200000004, 'rC:dA,18': 0.642857143, 'rU:dG,17': 0.705882353, 'rU:dG,16': 0.666666667, 'rU:dG,15': 0.272727273, 'rG:dG,2': 0.692307692, 'rU:dG,13': 0.7894736840000001, 'rU:dG,12': 0.947368421, 'rG:dA,9': 0.533333333, 'rG:dA,8': 0.625, 'rG:dA,7': 0.571428571, 'rG:dG,5': 0.7857142859999999, 'rG:dA,5': 0.3, 'rG:dA,4': 0.363636364, 'rG:dA,3': 0.5, 'rG:dA,2': 0.636363636, 'rG:dA,1': 1.0, 'rG:dG,4': 0.529411765, 'rG:dG,1': 0.7142857140000001, 'rA:dC,9': 0.666666667, 'rG:dG,7': 0.6875, 'rG:dT,5': 0.8666666670000001, 'rU:dT,20': 0.5625, 'rC:dC,15': 0.05, 'rC:dC,14': 0.0, 'rC:dC,17': 0.058823529000000006, 'rC:dC,16': 0.153846154, 'rC:dC,11': 0.25, 'rC:dC,10': 0.38888888899999996, 'rC:dC,13': 0.13636363599999998, 'rC:dC,12': 0.444444444, 'rC:dA,20': 0.3, 'rC:dC,19': 0.125, 'rC:dC,18': 0.133333333, 'rA:dA,1': 1.0, 'rA:dA,3': 0.705882353, 'rA:dA,2': 0.727272727, 'rA:dA,5': 0.363636364, 'rA:dA,4': 0.636363636, 'rA:dA,7': 0.4375, 'rA:dA,6': 0.7142857140000001, 'rA:dA,9': 0.6, 'rA:dA,8': 0.428571429, 'rU:dG,20': 0.090909091, 'rC:dC,9': 0.6190476189999999, 'rC:dC,8': 0.642857143, 'rU:dT,10': 0.857142857, 'rU:dT,11': 0.75, 'rU:dT,16': 0.9090909090000001, 'rU:dT,17': 0.533333333, 'rU:dT,14': 0.6190476189999999, 'rU:dT,15': 0.578947368, 'rC:dC,1': 0.913043478, 'rU:dT,3': 0.7142857140000001, 'rC:dC,3': 0.5, 'rC:dC,2': 0.695652174, 'rC:dC,5': 0.6, 'rC:dC,4': 0.5, 'rC:dC,7': 0.470588235, 'rC:dC,6': 0.5, 'rU:dT,4': 0.47619047600000003, 'rU:dT,8': 0.8, 'rU:dT,9': 0.9285714290000001, 'rA:dC,19': 0.375, 'rA:dC,18': 0.4, 'rA:dC,17': 0.176470588, 'rA:dC,16': 0.192307692, 'rA:dC,15': 0.65, 'rA:dC,14': 0.46666666700000003, 'rA:dC,13': 0.6521739129999999, 'rA:dC,12': 0.7222222220000001, 'rA:dC,11': 0.65, 'rA:dC,10': 0.5555555560000001, 'rU:dC,7': 0.588235294, 'rC:dT,8': 0.65, 'rC:dT,9': 0.857142857, 'rC:dT,6': 0.9285714290000001, 'rC:dT,7': 0.75, 'rC:dT,4': 0.842105263, 'rC:dT,5': 0.571428571, 'rC:dT,2': 0.727272727, 'rC:dT,3': 0.8666666670000001, 'rC:dT,1': 1.0, 'rA:dC,8': 0.7333333329999999, 'rU:dT,1': 1.0, 'rU:dC,3': 0.5, 'rU:dC,1': 0.956521739, 'rU:dT,2': 0.846153846, 'rU:dG,19': 0.275862069, 'rG:dT,14': 0.75, 'rG:dT,15': 0.9411764709999999, 'rG:dT,16': 1.0, 'rG:dT,17': 0.933333333, 'rG:dT,10': 0.933333333, 'rG:dT,11': 1.0, 'rA:dG,9': 0.571428571, 'rA:dG,8': 0.428571429, 'rA:dG,7': 0.4375, 'rA:dG,6': 0.454545455, 'rA:dG,5': 0.5, 'rA:dG,4': 0.352941176, 'rA:dG,3': 0.428571429, 'rA:dG,2': 0.7857142859999999, 'rA:dG,1': 0.857142857, 'rU:dT,5': 0.5, 'rG:dT,2': 0.846153846, 'rA:dC,3': 0.611111111, 'rA:dC,20': 0.764705882, 'rG:dT,1': 0.9, 'rG:dT,6': 1.0, 'rG:dT,7': 1.0, 'rG:dT,4': 0.9, 'rC:dT,19': 0.428571429, 'rG:dG,9': 0.538461538, 'rG:dG,8': 0.615384615, 'rG:dT,8': 1.0, 'rG:dT,9': 0.642857143, 'rU:dG,18': 0.428571429, 'rU:dT,7': 0.875, 'rG:dG,6': 0.681818182, 'rA:dA,20': 0.6, 'rU:dC,9': 0.6190476189999999, 'rA:dG,17': 0.176470588, 'rU:dC,8': 0.7333333329999999, 'rA:dG,16': 0.0, 'rA:dG,19': 0.20689655199999998, 'rG:dT,3': 0.75, 'rU:dG,3': 0.428571429, 'rU:dG,2': 0.857142857, 'rU:dG,1': 0.857142857, 'rA:dG,18': 0.19047619, 'rU:dG,7': 0.6875, 'rU:dG,6': 0.9090909090000001, 'rU:dG,5': 1.0, 'rU:dG,4': 0.647058824, 'rU:dG,9': 0.923076923, 'rU:dG,8': 1.0, 'rU:dC,19': 0.25, 'rU:dC,18': 0.333333333, 'rU:dC,13': 0.260869565, 'rU:dC,12': 0.5, 'rU:dC,11': 0.4, 'rU:dC,10': 0.5, 'rU:dC,17': 0.117647059, 'rU:dC,16': 0.346153846, 'rU:dC,15': 0.05, 'rU:dC,14': 0.0, 'rC:dT,10': 0.8666666670000001, 'rC:dT,11': 0.75, 'rC:dT,12': 0.7142857140000001, 'rC:dT,13': 0.384615385, 'rC:dT,14': 0.35, 'rC:dT,15': 0.222222222, 'rC:dT,16': 1.0, 'rC:dT,17': 0.46666666700000003, 'rC:dT,18': 0.538461538, 'rA:dC,2': 0.8, 'rA:dC,1': 1.0, 'rA:dC,7': 0.705882353, 'rA:dC,6': 0.7142857140000001, 'rA:dC,5': 0.72, 'rA:dC,4': 0.625, 'rU:dT,19': 0.28571428600000004}\n",
        "pam_scores={'AA': 0.0, 'AC': 0.0, 'GT': 0.016129031999999998, 'AG': 0.25925925899999996, 'CC': 0.0, 'CA': 0.0, 'CG': 0.107142857, 'TT': 0.0, 'GG': 1.0, 'GC': 0.022222222000000003, 'AT': 0.0, 'GA': 0.06944444400000001, 'TG': 0.038961038999999996, 'TA': 0.0, 'TC': 0.0, 'CT': 0.0}\n",
        "\n",
        "def reverse_complement(seq):\n",
        "    base_rev_comp = {'A': 'T', 'C': 'G', 'G': 'C', 'T': 'A','U':'A', '-':'-'}\n",
        "    rc_seq = ''\n",
        "    for base in seq:\n",
        "        rc_seq += base_rev_comp[base]\n",
        "    return rc_seq[::-1]\n",
        "\n",
        "def calc_cfd(wt,sg,pam):\n",
        "    score = 1\n",
        "    sg = sg.replace('T','U')\n",
        "    wt = wt.replace('T','U')\n",
        "    s_list = list(sg)\n",
        "    wt_list = list(wt)\n",
        "    for i,sl in enumerate(s_list):\n",
        "        if wt_list[i] == sl:\n",
        "            score *= 1\n",
        "        else:\n",
        "            key = 'r' + wt_list[i] + ':d' + reverse_complement(sl) + ',' + str(i+1)\n",
        "            score *= mm_scores[key]\n",
        "    score *= pam_scores[pam]\n",
        "    return 100 * score\n",
        "\n",
        "data = []\n",
        "row_ind = []\n",
        "col_ind = []\n",
        "seq_to_ind_dict = {seq_test[i]: i for i in range(len(seq_test))}\n",
        "CFD_list = []\n",
        "for i in range(len(seq_test)):\n",
        "    g = gRNA[source_test[i]]\n",
        "    CFD_score = calc_cfd(g[:20], seq_test[i][:20], seq_test[i][21:])\n",
        "    CFD_list.append(CFD_score)\n",
        "CFD_list = np.array(CFD_list)\n",
        "\n",
        "for i in range(len(seq_test)):\n",
        "    if i % 10000 == 0:\n",
        "        print(i)\n",
        "    neighbors = permute(seq_test[i], gRNA[source_test[i]])\n",
        "    neighbors_ind = np.array([seq_to_ind_dict.get(ngb, -1) for ngb in neighbors])\n",
        "    neighbors_ind = neighbors_ind[np.nonzero(neighbors_ind != -1)[0]]\n",
        "    neighbors_ind = neighbors_ind[np.nonzero(source_test[neighbors_ind] == source_test[i])[0]]\n",
        "\n",
        "    self_ind = [i] * len(neighbors_ind)\n",
        "    indicator = np.where(y_test[self_ind] - y_test[neighbors_ind] > 0, 1, -1)\n",
        "\n",
        "    row_ind.extend(self_ind)\n",
        "    col_ind.extend(neighbors_ind)\n",
        "    data.extend(indicator.tolist())\n"
      ]
    },
    {
      "cell_type": "code",
      "execution_count": null,
      "id": "0f2b8827-8d2a-410e-95f7-1ed94c9801cd",
      "metadata": {
        "id": "0f2b8827-8d2a-410e-95f7-1ed94c9801cd",
        "outputId": "1880d432-936b-4551-ea45-b4f96c7f3321",
        "colab": {
          "base_uri": "https://localhost:8080/"
        }
      },
      "outputs": [
        {
          "output_type": "stream",
          "name": "stdout",
          "text": [
            "27701\n",
            "27701 22838\n",
            "0.8544172436377268 0.7750522730142403 0.8244467708746976\n"
          ]
        }
      ],
      "source": [
        "print(len(row_ind))\n",
        "# plt.figure(figsize = (7,7))\n",
        "\n",
        "# plt.scatter(true_list[row_ind] - true_list[col_ind], pred_list[row_ind] - pred_list[col_ind], s = 2, c = 'black')\n",
        "# plt.scatter(true_list[row_ind] - true_list[col_ind], CFD_list[row_ind] - CFD_list[col_ind], s = 2, c = 'black')\n",
        "mis_test = mismatches[test_ind]\n",
        "sign = (true_list[row_ind] - true_list[col_ind]) * (pred_list[row_ind] - pred_list[col_ind])\n",
        "same_sign = np.nonzero(sign > 0)[0]\n",
        "print(len(sign), len(same_sign))\n",
        "\n",
        "pearsonr = np.corrcoef(true_list[row_ind] - true_list[col_ind], pred_list[row_ind] - pred_list[col_ind])[0,1]\n",
        "spearmanr = stats.spearmanr(true_list[row_ind] - true_list[col_ind], pred_list[row_ind] - pred_list[col_ind]).statistic\n",
        "acc = len(same_sign) / len(sign)\n",
        "print(pearsonr, spearmanr, acc)\n",
        "# plt.text(0.01, 0.99, 'Pearson r: %.3f\\nSpearman r: %.3f\\nAcc: %.3f' % (pearsonr, spearmanr, acc), transform=plt.gca().transAxes,\n",
        "#          verticalalignment='top', horizontalalignment='left')\n",
        "# plt.xlabel('Actual log2FC difference')\n",
        "# plt.ylabel('Predicted log2FC difference')\n",
        "\n",
        "# Define mutation types\n",
        "wobble_mutations = {'G': 'A', 'T': 'C'}\n",
        "wobblelike_mutations = {'A': 'G', 'C': 'T'}\n",
        "transitions = {'A': 'G', 'G': 'A', 'C': 'T', 'T': 'C'}\n",
        "transversions = {'A': ['T', 'C'], 'C': ['A','G'], 'G': ['C', 'T'], 'T': ['A','G']}\n",
        "hoogsteen_mutations = {'A': 'C', 'G': ['T','C']}\n",
        "\n",
        "pos_list = []\n",
        "wobble_list = []\n",
        "wobblelike_list = []\n",
        "transition_list = []\n",
        "transversion_list = []\n",
        "hoogsteen_list = []\n",
        "\n",
        "for i in range(len(row_ind)):\n",
        "    pos = 0\n",
        "    while seq_test[row_ind[i]][pos] == seq_test[col_ind[i]][pos] and pos != 20:\n",
        "        pos += 1\n",
        "    pos_list.append(pos)\n",
        "    b1, b2 = seq_test[row_ind[i]][pos], seq_test[col_ind[i]][pos]\n",
        "    wobble_list.append(wobble_mutations.get(b1, None) == b2)\n",
        "    wobblelike_list.append(wobblelike_mutations.get(b1, None) == b2)\n",
        "    transition_list.append(transitions.get(b1, None) == b2)\n",
        "    transversion_list.append(b2 in transversions.get(b1, []))\n",
        "    hoogsteen_list.append(b2 in hoogsteen_mutations.get(b1, []))\n",
        "\n",
        "\n",
        "import pandas as pd\n",
        "df = {'seq_1': seq_test[row_ind],\n",
        "      'seq_2': seq_test[col_ind],\n",
        "      'target': source_test[row_ind],\n",
        "      'MM_1': mis_test[row_ind],\n",
        "      'MM_2': mis_test[col_ind],\n",
        "      'log2FC_1': true_list[row_ind],\n",
        "      'log2FC_2': true_list[col_ind],\n",
        "      'predicted_log2FC_1': pred_list[row_ind],\n",
        "      'predicted_log2FC_2': pred_list[col_ind],\n",
        "      'CFD_1': CFD_list[row_ind],\n",
        "      'CFD_2': CFD_list[col_ind],\n",
        "      'delta_log2FC': true_list[col_ind] - true_list[row_ind],\n",
        "      'delta_predicted_log2FC': pred_list[col_ind] - pred_list[row_ind],\n",
        "      'delta_CFD': CFD_list[col_ind] - CFD_list[row_ind],\n",
        "      'position': pos_list,\n",
        "      'wobble_mutations': wobble_list,\n",
        "      'wobblelike_mutations': wobblelike_list,\n",
        "      'transitions': transition_list,\n",
        "      'transversions': transversion_list,\n",
        "      'hoogsteen_mutations': hoogsteen_list,\n",
        "     }\n",
        "df = pd.DataFrame(df)\n",
        "df.to_csv('results/pair_table_log21p_activity_filtering%d_test.csv' % filtering)\n",
        "\n"
      ]
    }
  ],
  "metadata": {
    "kernelspec": {
      "display_name": "Python 3",
      "name": "python3"
    },
    "language_info": {
      "codemirror_mode": {
        "name": "ipython",
        "version": 3
      },
      "file_extension": ".py",
      "mimetype": "text/x-python",
      "name": "python",
      "nbconvert_exporter": "python",
      "pygments_lexer": "ipython3",
      "version": "3.11.9"
    },
    "colab": {
      "provenance": [],
      "gpuType": "T4",
      "machine_shape": "hm"
    },
    "accelerator": "GPU"
  },
  "nbformat": 4,
  "nbformat_minor": 5
}